{
  "nbformat": 4,
  "nbformat_minor": 0,
  "metadata": {
    "colab": {
      "name": "uploader.ipynb",
      "provenance": [],
      "authorship_tag": "ABX9TyM1L5kT0I4GhuWLOZnKPuQ2",
      "include_colab_link": true
    },
    "kernelspec": {
      "name": "python3",
      "display_name": "Python 3"
    }
  },
  "cells": [
    {
      "cell_type": "markdown",
      "metadata": {
        "id": "view-in-github",
        "colab_type": "text"
      },
      "source": [
        "<a href=\"https://colab.research.google.com/github/abjim/colab-to-drive/blob/master/uploader.ipynb\" target=\"_parent\"><img src=\"https://colab.research.google.com/assets/colab-badge.svg\" alt=\"Open In Colab\"/></a>"
      ]
    },
    {
      "cell_type": "code",
      "metadata": {
        "id": "lsAyZsulZWe0",
        "colab_type": "code",
        "colab": {},
        "cellView": "form"
      },
      "source": [
        "#@markdown # __Run To Mount Drive__\n",
        "from google.colab import drive\n",
        "drive.mount('/gdrive')"
      ],
      "execution_count": null,
      "outputs": []
    },
    {
      "cell_type": "code",
      "metadata": {
        "id": "TWVajHnkZfgY",
        "colab_type": "code",
        "colab": {},
        "cellView": "form"
      },
      "source": [
        "#@markdown # __Upload Local File__\n",
        "from google.colab import files\n",
        "\n",
        "uploaded = files.upload()"
      ],
      "execution_count": null,
      "outputs": []
    },
    {
      "cell_type": "code",
      "metadata": {
        "id": "6boYH5XIZich",
        "colab_type": "code",
        "colab": {},
        "cellView": "form"
      },
      "source": [
        "#@markdown __Move from Colab to Drive__</br>\n",
        "#@markdown Uploaded Local Files are in \"/content/..\"\n",
        "\n",
        "import shutil\n",
        "\n",
        "source = \"\" #@param {type:\"string\"}\n",
        "dest = \"\" #@param {type:\"string\"}\n",
        "\n",
        "shutil.move(source,dest)"
      ],
      "execution_count": null,
      "outputs": []
    }
  ]
}